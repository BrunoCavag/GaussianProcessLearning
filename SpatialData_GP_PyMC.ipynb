{
 "cells": [
  {
   "cell_type": "markdown",
   "metadata": {},
   "source": [
    "# Modeling Spatial Data with Gaussian Processes in PyMC\n",
    "\n",
    "In this notebook I will recreat the code from [Luciano Paz](https://www.pymc-labs.io/blog-posts/spatial-gaussian-process-01/) with the goal of predicting expected concentrations of radioactive in households depending on the county of the house.\n",
    "\n",
    "Usually we would picture some kind of continiuos lateng geographical feature that makes observations taken from nearby places be similar to each other. This is diferent from the notion of treating geographical information as a categorical value that grouped observations together. \n",
    "\n",
    "One way to get the continium, and avoiding the notion of neighbours to have absolutly nothing in common, is to use Gaussina Processes to model it. GP provides a very nice and flexible way of setting a prior, that essentially says: \"nearby observations should be similar to each other, and as the observations go further away, they become uncorrelated. "
   ]
  },
  {
   "cell_type": "markdown",
   "metadata": {},
   "source": [
    "## The dataset\n",
    "\n",
    "In this exercise, the dataset is [the radon dataset from Gelman and Hill 2006](https://www.cambridge.org/highereducation/books/data-analysis-using-regression-and-multilevel-hierarchical-models/32A29531C7FD730C3A68951A17C9D983#overview) where they studied a dataset of radon meassurements that were performed in 919 households from 85 counties of the state of Minnesota. They used a grouping approach, which doesn't have any sense, why should the radon concentration in earth crust follows some county border line? "
   ]
  },
  {
   "cell_type": "code",
   "execution_count": null,
   "metadata": {},
   "outputs": [],
   "source": [
    "import arviz as az\n",
    "import cartopy\n",
    "import cartopy.crs as ccrs\n",
    "import cartopy.feature as cfeature\n",
    "import cartopy.io.shapereader as shpreader\n",
    "import numpy as np\n",
    "import pandas as pd\n",
    "import pymc as pm\n",
    "from aesara import tensor as at\n",
    "from matplotlib import pyplot as plt"
   ]
  },
  {
   "cell_type": "markdown",
   "metadata": {},
   "source": [
    "Cartopy can be used to get the shape files from some public sources, like the Natural Earth. The county shapes have a lot of meta information. One important fields is called FIPS, that stands for [Federal Information Processing Systems](https://en.wikipedia.org/wiki/Federal_Information_Processing_Standards). At the time the radon measurements were performed, the counties were identified using their FIPS codes, and we will use these to align our observations to the corresponding shape files."
   ]
  },
  {
   "cell_type": "code",
   "execution_count": null,
   "metadata": {},
   "outputs": [],
   "source": [
    "# load the dataset:\n",
    "\n",
    "df = pd.read_csv('data/radon.csv', index_col=0, dtype={\"fips\":int})\n",
    "df['fips'] = \"US\" + df['fips'].astype(str)\n",
    "county_idx, counties = df.county.factorize(sort=True)\n",
    "unique_fips = df.fips.unique()\n",
    "df"
   ]
  },
  {
   "cell_type": "code",
   "execution_count": null,
   "metadata": {},
   "outputs": [],
   "source": [
    "# get the state of minnesota shape file:\n",
    "\n",
    "reader = shpreader.Reader(\n",
    "    shpreader.natural_earth(\n",
    "        resolution=\"10m\", category='cultural',name='admin_1_states_provinces'\n",
    "    )\n",
    ")\n",
    "minnesota = [s for s in reader.records() if s.attributes['admin'] == 'United States of America' and s.attributes['name']==\"Minnesota\"][0]"
   ]
  },
  {
   "cell_type": "code",
   "execution_count": null,
   "metadata": {},
   "outputs": [],
   "source": [
    "# Get Minnesota counties and neighboring counties shape files:\n",
    "\n",
    "reader = shpreader.Reader(\n",
    "    shpreader.natural_earth(\n",
    "        resolution='10m', category='cultural', name='admin_2_counties'\n",
    "    )\n",
    ")\n",
    "\n",
    "minnesota_counties = [county for county in reader.records() if county.geometry.intersects(minnesota.geometry) \\\n",
    "                       and county.geometry.difference(minnesota.geometry).area / county.geometry.area < 0.01]\n",
    "\n",
    "minnesota_neighbor_counties = [county for county in reader.records() if county.geometry.intersects(minnesota.geometry) \\\n",
    "                       and county.geometry.difference(minnesota.geometry).area / county.geometry.area > 0.5]\n",
    "\n",
    "counties_with_measurements = [c for c in minnesota_counties if c.attributes['FIPS'] in unique_fips]\n",
    "\n",
    "counties_without_measurements = [c for c in minnesota_counties if c.attributes['FIPS'] not in unique_fips]\n",
    "\n",
    "len(counties_with_measurements), len(counties_without_measurements), len(minnesota_neighbor_counties)"
   ]
  },
  {
   "cell_type": "code",
   "execution_count": null,
   "metadata": {},
   "outputs": [],
   "source": [
    "counties_without_measurements"
   ]
  },
  {
   "cell_type": "code",
   "execution_count": null,
   "metadata": {},
   "outputs": [],
   "source": [
    "# Getting a map from the county names to latitude and longitude:\n",
    "\n",
    "county_fips = {counties[idx]: df.fips.iloc[i] for i, idx in enumerate(county_idx)}\n",
    "fips_to_records = {\n",
    "    record.attributes[\"FIPS\"]: record for record in counties_with_measurements\n",
    "}\n",
    "county_to_records = {c: fips_to_records[county_fips[c]] for c in counties}\n",
    "county_lonlat = {\n",
    "    c: np.array(\n",
    "        [\n",
    "            county_to_records[c].attributes[\"longitude\"],\n",
    "            county_to_records[c].attributes[\"latitude\"],\n",
    "        ]\n",
    "    )\n",
    "    for c in counties\n",
    "}\n",
    "cond_counties = [\n",
    "    c.attributes[\"NAME\"].upper() for c in counties_without_measurements\n",
    "] + [\n",
    "    f\"{c.attributes['NAME']} - {c.attributes['REGION']}\".upper()\n",
    "    for c in minnesota_neighbor_counties\n",
    "]\n",
    "county_to_records.update(\n",
    "    {\n",
    "        name: record\n",
    "        for name, record in zip(\n",
    "            cond_counties, counties_without_measurements + minnesota_neighbor_counties\n",
    "        )\n",
    "    }\n",
    ")\n",
    "cond_county_lonlat = {\n",
    "    c: np.array(\n",
    "        [\n",
    "            county_to_records[c].attributes[\"longitude\"],\n",
    "            county_to_records[c].attributes[\"latitude\"],\n",
    "        ]\n",
    "    )\n",
    "    for c in cond_counties\n",
    "}"
   ]
  },
  {
   "cell_type": "code",
   "execution_count": null,
   "metadata": {},
   "outputs": [],
   "source": [
    "expected_radon = df.groupby(\"county\")[\"log_radon\"].mean()"
   ]
  },
  {
   "cell_type": "code",
   "execution_count": null,
   "metadata": {},
   "outputs": [],
   "source": [
    "expected_radon"
   ]
  },
  {
   "cell_type": "code",
   "execution_count": null,
   "metadata": {},
   "outputs": [],
   "source": [
    "minnesota.geometry"
   ]
  },
  {
   "cell_type": "code",
   "execution_count": null,
   "metadata": {},
   "outputs": [],
   "source": [
    "county_to_records['ANOKA'].geometry"
   ]
  },
  {
   "cell_type": "code",
   "execution_count": null,
   "metadata": {},
   "outputs": [],
   "source": [
    "fig = plt.figure(figsize=(12, 7))\n",
    "projection = ccrs.PlateCarree()\n",
    "ax = plt.axes(projection=projection)\n",
    "ax.add_feature(\n",
    "    cfeature.ShapelyFeature([minnesota.geometry], projection),\n",
    "    edgecolor=\"k\",\n",
    "    facecolor=\"w\",\n",
    ")\n",
    "vmin = expected_radon.min()\n",
    "vmax = expected_radon.max()\n",
    "color_getter = lambda x: plt.get_cmap(\"viridis\")(np.interp(x, [vmin, vmax], [0, 1]))\n",
    "for county in counties:\n",
    "    county_record = county_to_records[county]\n",
    "    val = expected_radon[county]\n",
    "    ax.add_feature(\n",
    "        cfeature.ShapelyFeature([county_record.geometry], projection),\n",
    "        edgecolor=\"gray\",\n",
    "        facecolor=color_getter(val.data),\n",
    "    )\n",
    "\n",
    "cbar = fig.colorbar(plt.matplotlib.cm.ScalarMappable(norm=None, cmap=\"viridis\"))\n",
    "cbar.set_ticks(np.linspace(0, 1, 6))\n",
    "cbar.set_ticklabels(\n",
    "    [f\"{round(np.interp(x, [0, 1], [vmin, vmax]), 2)}\" for x in cbar.get_ticks()]\n",
    ")\n",
    "cbar.set_label(\"Observed mean Log Radon\")\n",
    "ax.add_feature(cfeature.LAKES, alpha=0.5)\n",
    "ax.add_feature(cfeature.RIVERS)\n",
    "ax.set_xlim([-99, -87])\n",
    "ax.set_ylim([42, 50])\n",
    "ax.gridlines(draw_labels=True, dms=True, x_inline=False, y_inline=False)"
   ]
  }
 ],
 "metadata": {
  "kernelspec": {
   "display_name": "Python 3.8.5 ('gaussian_process': venv)",
   "language": "python",
   "name": "python3"
  },
  "language_info": {
   "codemirror_mode": {
    "name": "ipython",
    "version": 3
   },
   "file_extension": ".py",
   "mimetype": "text/x-python",
   "name": "python",
   "nbconvert_exporter": "python",
   "pygments_lexer": "ipython3",
   "version": "3.8.5"
  },
  "orig_nbformat": 4,
  "vscode": {
   "interpreter": {
    "hash": "e52550c2335a2dae7bf21ded850977503e584538603b5676d4c51f25bf1b9695"
   }
  }
 },
 "nbformat": 4,
 "nbformat_minor": 2
}
